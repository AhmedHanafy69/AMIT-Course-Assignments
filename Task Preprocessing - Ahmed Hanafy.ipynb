{
 "cells": [
  {
   "cell_type": "markdown",
   "id": "f9ae3fa7",
   "metadata": {},
   "source": [
    "# number of app titles contain astrology\n",
    "\n",
    "# which category getting the highest average rating ?\n",
    "\n",
    "# find total number of apps having 5 star rating\n",
    "\n",
    "# find total number of free and paid app\n",
    "\n",
    "# which app has maximum reviews?\n",
    "\n",
    "# display top 5 apps having highest review\n",
    "\n",
    "# find average rating of free and paid apps\n"
   ]
  },
  {
   "cell_type": "code",
   "execution_count": 1,
   "id": "db578a4a",
   "metadata": {},
   "outputs": [
    {
     "data": {
      "text/html": [
       "<div>\n",
       "<style scoped>\n",
       "    .dataframe tbody tr th:only-of-type {\n",
       "        vertical-align: middle;\n",
       "    }\n",
       "\n",
       "    .dataframe tbody tr th {\n",
       "        vertical-align: top;\n",
       "    }\n",
       "\n",
       "    .dataframe thead th {\n",
       "        text-align: right;\n",
       "    }\n",
       "</style>\n",
       "<table border=\"1\" class=\"dataframe\">\n",
       "  <thead>\n",
       "    <tr style=\"text-align: right;\">\n",
       "      <th></th>\n",
       "      <th>App</th>\n",
       "      <th>Category</th>\n",
       "      <th>Rating</th>\n",
       "      <th>Reviews</th>\n",
       "      <th>Size</th>\n",
       "      <th>Installs</th>\n",
       "      <th>Type</th>\n",
       "      <th>Price</th>\n",
       "      <th>Content Rating</th>\n",
       "      <th>Genres</th>\n",
       "      <th>Last Updated</th>\n",
       "      <th>Current Ver</th>\n",
       "      <th>Android Ver</th>\n",
       "    </tr>\n",
       "  </thead>\n",
       "  <tbody>\n",
       "    <tr>\n",
       "      <th>0</th>\n",
       "      <td>Photo Editor &amp; Candy Camera &amp; Grid &amp; ScrapBook</td>\n",
       "      <td>ART_AND_DESIGN</td>\n",
       "      <td>4.1</td>\n",
       "      <td>159</td>\n",
       "      <td>19M</td>\n",
       "      <td>10,000+</td>\n",
       "      <td>Free</td>\n",
       "      <td>0</td>\n",
       "      <td>Everyone</td>\n",
       "      <td>Art &amp; Design</td>\n",
       "      <td>January 7, 2018</td>\n",
       "      <td>1.0.0</td>\n",
       "      <td>4.0.3 and up</td>\n",
       "    </tr>\n",
       "    <tr>\n",
       "      <th>1</th>\n",
       "      <td>Coloring book moana</td>\n",
       "      <td>ART_AND_DESIGN</td>\n",
       "      <td>3.9</td>\n",
       "      <td>967</td>\n",
       "      <td>14M</td>\n",
       "      <td>500,000+</td>\n",
       "      <td>Free</td>\n",
       "      <td>0</td>\n",
       "      <td>Everyone</td>\n",
       "      <td>Art &amp; Design;Pretend Play</td>\n",
       "      <td>January 15, 2018</td>\n",
       "      <td>2.0.0</td>\n",
       "      <td>4.0.3 and up</td>\n",
       "    </tr>\n",
       "    <tr>\n",
       "      <th>2</th>\n",
       "      <td>U Launcher Lite – FREE Live Cool Themes, Hide ...</td>\n",
       "      <td>ART_AND_DESIGN</td>\n",
       "      <td>4.7</td>\n",
       "      <td>87510</td>\n",
       "      <td>8.7M</td>\n",
       "      <td>5,000,000+</td>\n",
       "      <td>Free</td>\n",
       "      <td>0</td>\n",
       "      <td>Everyone</td>\n",
       "      <td>Art &amp; Design</td>\n",
       "      <td>August 1, 2018</td>\n",
       "      <td>1.2.4</td>\n",
       "      <td>4.0.3 and up</td>\n",
       "    </tr>\n",
       "    <tr>\n",
       "      <th>3</th>\n",
       "      <td>Sketch - Draw &amp; Paint</td>\n",
       "      <td>ART_AND_DESIGN</td>\n",
       "      <td>4.5</td>\n",
       "      <td>215644</td>\n",
       "      <td>25M</td>\n",
       "      <td>50,000,000+</td>\n",
       "      <td>Free</td>\n",
       "      <td>0</td>\n",
       "      <td>Teen</td>\n",
       "      <td>Art &amp; Design</td>\n",
       "      <td>June 8, 2018</td>\n",
       "      <td>Varies with device</td>\n",
       "      <td>4.2 and up</td>\n",
       "    </tr>\n",
       "    <tr>\n",
       "      <th>4</th>\n",
       "      <td>Pixel Draw - Number Art Coloring Book</td>\n",
       "      <td>ART_AND_DESIGN</td>\n",
       "      <td>4.3</td>\n",
       "      <td>967</td>\n",
       "      <td>2.8M</td>\n",
       "      <td>100,000+</td>\n",
       "      <td>Free</td>\n",
       "      <td>0</td>\n",
       "      <td>Everyone</td>\n",
       "      <td>Art &amp; Design;Creativity</td>\n",
       "      <td>June 20, 2018</td>\n",
       "      <td>1.1</td>\n",
       "      <td>4.4 and up</td>\n",
       "    </tr>\n",
       "  </tbody>\n",
       "</table>\n",
       "</div>"
      ],
      "text/plain": [
       "                                                 App        Category  Rating  \\\n",
       "0     Photo Editor & Candy Camera & Grid & ScrapBook  ART_AND_DESIGN     4.1   \n",
       "1                                Coloring book moana  ART_AND_DESIGN     3.9   \n",
       "2  U Launcher Lite – FREE Live Cool Themes, Hide ...  ART_AND_DESIGN     4.7   \n",
       "3                              Sketch - Draw & Paint  ART_AND_DESIGN     4.5   \n",
       "4              Pixel Draw - Number Art Coloring Book  ART_AND_DESIGN     4.3   \n",
       "\n",
       "  Reviews  Size     Installs  Type Price Content Rating  \\\n",
       "0     159   19M      10,000+  Free     0       Everyone   \n",
       "1     967   14M     500,000+  Free     0       Everyone   \n",
       "2   87510  8.7M   5,000,000+  Free     0       Everyone   \n",
       "3  215644   25M  50,000,000+  Free     0           Teen   \n",
       "4     967  2.8M     100,000+  Free     0       Everyone   \n",
       "\n",
       "                      Genres      Last Updated         Current Ver  \\\n",
       "0               Art & Design   January 7, 2018               1.0.0   \n",
       "1  Art & Design;Pretend Play  January 15, 2018               2.0.0   \n",
       "2               Art & Design    August 1, 2018               1.2.4   \n",
       "3               Art & Design      June 8, 2018  Varies with device   \n",
       "4    Art & Design;Creativity     June 20, 2018                 1.1   \n",
       "\n",
       "    Android Ver  \n",
       "0  4.0.3 and up  \n",
       "1  4.0.3 and up  \n",
       "2  4.0.3 and up  \n",
       "3    4.2 and up  \n",
       "4    4.4 and up  "
      ]
     },
     "execution_count": 1,
     "metadata": {},
     "output_type": "execute_result"
    }
   ],
   "source": [
    "import pandas as pd\n",
    "\n",
    "# Load the dataset from the CSV file\n",
    "df = pd.read_csv('googleplaystore.csv')\n",
    "\n",
    "# Display the first few rows of the DataFrame\n",
    "df.head()\n"
   ]
  },
  {
   "cell_type": "code",
   "execution_count": 2,
   "id": "ae88a7a7",
   "metadata": {},
   "outputs": [
    {
     "name": "stdout",
     "output_type": "stream",
     "text": [
      "Number of app titles containing 'astrology': 3\n"
     ]
    }
   ],
   "source": [
    "# Filter app titles containing \"astrology\" and count the number of rows\n",
    "num_apps_astrology = df[df['App'].str.contains('astrology', case=False)].shape[0]\n",
    "\n",
    "print(\"Number of app titles containing 'astrology':\", num_apps_astrology)\n"
   ]
  },
  {
   "cell_type": "code",
   "execution_count": 3,
   "id": "4568bfe8",
   "metadata": {},
   "outputs": [
    {
     "name": "stdout",
     "output_type": "stream",
     "text": [
      "Category with the highest average rating: 1.9\n"
     ]
    }
   ],
   "source": [
    "# Calculate the average rating for each category\n",
    "average_rating_by_category = df.groupby('Category')['Rating'].mean()\n",
    "\n",
    "# Find the category with the highest average rating\n",
    "highest_rating_category = average_rating_by_category.idxmax()\n",
    "\n",
    "print(\"Category with the highest average rating:\", highest_rating_category)\n"
   ]
  },
  {
   "cell_type": "code",
   "execution_count": 4,
   "id": "0f3f2577",
   "metadata": {},
   "outputs": [
    {
     "name": "stdout",
     "output_type": "stream",
     "text": [
      "Total number of apps with a 5-star rating: 274\n"
     ]
    }
   ],
   "source": [
    "# Count the number of rows where the rating is 5.0\n",
    "num_apps_5_stars = df[df['Rating'] == 5.0].shape[0]\n",
    "\n",
    "print(\"Total number of apps with a 5-star rating:\", num_apps_5_stars)\n"
   ]
  },
  {
   "cell_type": "code",
   "execution_count": 5,
   "id": "f5429495",
   "metadata": {},
   "outputs": [
    {
     "name": "stdout",
     "output_type": "stream",
     "text": [
      "Total number of free apps: 10039\n",
      "Total number of paid apps: 800\n"
     ]
    }
   ],
   "source": [
    "# Count the number of rows for each app type (Free or Paid)\n",
    "app_type_counts = df['Type'].value_counts()\n",
    "\n",
    "print(\"Total number of free apps:\", app_type_counts['Free'])\n",
    "print(\"Total number of paid apps:\", app_type_counts['Paid'])\n"
   ]
  },
  {
   "cell_type": "code",
   "execution_count": 8,
   "id": "92f1b163",
   "metadata": {},
   "outputs": [
    {
     "name": "stdout",
     "output_type": "stream",
     "text": [
      "App with the maximum reviews: Facebook\n"
     ]
    }
   ],
   "source": [
    "# Convert 'Reviews' column to numeric\n",
    "df['Reviews'] = pd.to_numeric(df['Reviews'], errors='coerce')\n",
    "# Find the app with the maximum number of reviews\n",
    "max_reviews_app = df.loc[df['Reviews'].idxmax(), 'App']\n",
    "\n",
    "print(\"App with the maximum reviews:\", max_reviews_app)\n"
   ]
  },
  {
   "cell_type": "code",
   "execution_count": 9,
   "id": "9058b62c",
   "metadata": {},
   "outputs": [
    {
     "name": "stdout",
     "output_type": "stream",
     "text": [
      "Top 5 apps with the highest reviews:\n",
      "                     App     Reviews\n",
      "2544            Facebook  78158306.0\n",
      "3943            Facebook  78128208.0\n",
      "381   WhatsApp Messenger  69119316.0\n",
      "336   WhatsApp Messenger  69119316.0\n",
      "3904  WhatsApp Messenger  69109672.0\n"
     ]
    }
   ],
   "source": [
    "# Sort the DataFrame by reviews in descending order and display the top 5 apps\n",
    "top_5_apps_reviews = df.sort_values('Reviews', ascending=False).head(5)\n",
    "\n",
    "print(\"Top 5 apps with the highest reviews:\")\n",
    "print(top_5_apps_reviews[['App', 'Reviews']])\n"
   ]
  },
  {
   "cell_type": "code",
   "execution_count": 12,
   "id": "bd6a7e34",
   "metadata": {},
   "outputs": [
    {
     "name": "stdout",
     "output_type": "stream",
     "text": [
      "Average rating of free apps: 4.186202546163562\n",
      "Average rating of paid apps: 4.266615146831529\n"
     ]
    }
   ],
   "source": [
    "# Calculate the average rating for free and paid apps separately\n",
    "average_rating_free = df[df['Type'] == 'Free']['Rating'].mean()\n",
    "average_rating_paid = df[df['Type'] == 'Paid']['Rating'].mean()\n",
    "\n",
    "print(\"Average rating of free apps:\", average_rating_free)\n",
    "print(\"Average rating of paid apps:\", average_rating_paid)\n"
   ]
  },
  {
   "cell_type": "code",
   "execution_count": null,
   "id": "49cf28e8",
   "metadata": {},
   "outputs": [],
   "source": []
  }
 ],
 "metadata": {
  "kernelspec": {
   "display_name": "Python 3 (ipykernel)",
   "language": "python",
   "name": "python3"
  },
  "language_info": {
   "codemirror_mode": {
    "name": "ipython",
    "version": 3
   },
   "file_extension": ".py",
   "mimetype": "text/x-python",
   "name": "python",
   "nbconvert_exporter": "python",
   "pygments_lexer": "ipython3",
   "version": "3.9.7"
  }
 },
 "nbformat": 4,
 "nbformat_minor": 5
}
