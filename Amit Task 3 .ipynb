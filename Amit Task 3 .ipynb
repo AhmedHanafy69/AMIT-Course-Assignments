{
 "cells": [
  {
   "cell_type": "markdown",
   "id": "7e2361b6",
   "metadata": {},
   "source": [
    "# Question 1 create comperehinsive list that sum even numbers only from input number to another number and this numbers users will enter it"
   ]
  },
  {
   "cell_type": "code",
   "execution_count": 1,
   "id": "10ed435e",
   "metadata": {},
   "outputs": [
    {
     "name": "stdout",
     "output_type": "stream",
     "text": [
      "Enter the starting number: 1\n",
      "Enter the ending number: 9\n",
      "The even numbers within the range are: [2, 4, 6, 8]\n",
      "The sum of the even numbers is: 20\n"
     ]
    }
   ],
   "source": [
    "start = int(input(\"Enter the starting number: \"))\n",
    "end = int(input(\"Enter the ending number: \"))\n",
    "\n",
    "even_numbers = [num for num in range(start, end + 1) if num % 2 == 0]\n",
    "sum_even_numbers = sum(even_numbers)\n",
    "\n",
    "print(\"The even numbers within the range are:\", even_numbers)\n",
    "print(\"The sum of the even numbers is:\", sum_even_numbers)\n"
   ]
  },
  {
   "cell_type": "markdown",
   "id": "f581eee5",
   "metadata": {},
   "source": [
    "# Question 2 Find Largest and Smallest Numbers in a List using comprehensive list"
   ]
  },
  {
   "cell_type": "code",
   "execution_count": 2,
   "id": "cfc79314",
   "metadata": {},
   "outputs": [
    {
     "name": "stdout",
     "output_type": "stream",
     "text": [
      "Enter a list of numbers, separated by spaces: 1 2 3 4 5 6 7 8 9 10\n",
      "The smallest number is: 1\n",
      "The largest number is: 10\n"
     ]
    }
   ],
   "source": [
    "numbers = [int(num) for num in input(\"Enter a list of numbers, separated by spaces: \").split()]\n",
    "\n",
    "smallest = min(numbers)\n",
    "largest = max(numbers)\n",
    "\n",
    "print(\"The smallest number is:\", smallest)\n",
    "print(\"The largest number is:\", largest)\n"
   ]
  },
  {
   "cell_type": "markdown",
   "id": "8abe4588",
   "metadata": {},
   "source": [
    "# Question 3 Count Occurrences of a Character in a String\n"
   ]
  },
  {
   "cell_type": "code",
   "execution_count": 5,
   "id": "c54110d1",
   "metadata": {},
   "outputs": [
    {
     "name": "stdout",
     "output_type": "stream",
     "text": [
      "Enter a string: lolo\n",
      "Enter the character to count: l\n",
      "The character l occurs 2 time(s) in the string.\n"
     ]
    }
   ],
   "source": [
    "string = input(\"Enter a string: \")\n",
    "character = input(\"Enter the character to count: \")\n",
    "\n",
    "count = sum(1 for char in string if char == character)\n",
    "\n",
    "print(\"The character\", character, \"occurs\", count, \"time(s) in the string.\")\n"
   ]
  },
  {
   "cell_type": "markdown",
   "id": "97ec3dcf",
   "metadata": {},
   "source": [
    "# Question 4 Find Length of Longest Word in a Sentence\n"
   ]
  },
  {
   "cell_type": "code",
   "execution_count": 6,
   "id": "573323d4",
   "metadata": {},
   "outputs": [
    {
     "name": "stdout",
     "output_type": "stream",
     "text": [
      "Enter a sentence: hamada sokar zyada\n",
      "The length of the longest word in the sentence is: 6\n"
     ]
    }
   ],
   "source": [
    "sentence = input(\"Enter a sentence: \")\n",
    "words = sentence.split()\n",
    "\n",
    "longest_length = max(len(word) for word in words)\n",
    "\n",
    "print(\"The length of the longest word in the sentence is:\", longest_length)\n"
   ]
  },
  {
   "cell_type": "markdown",
   "id": "57b4783d",
   "metadata": {},
   "source": [
    "# Question 5 Sort a List of Numbers in Ascending and Descending Order\n"
   ]
  },
  {
   "cell_type": "code",
   "execution_count": 7,
   "id": "b1109884",
   "metadata": {},
   "outputs": [
    {
     "name": "stdout",
     "output_type": "stream",
     "text": [
      "Enter a list of numbers, separated by spaces: 1 2 3 4 5 6 7 8 9 10 11 12\n",
      "Numbers in ascending order: [1, 2, 3, 4, 5, 6, 7, 8, 9, 10, 11, 12]\n",
      "Numbers in descending order: [12, 11, 10, 9, 8, 7, 6, 5, 4, 3, 2, 1]\n"
     ]
    }
   ],
   "source": [
    "numbers = [int(num) for num in input(\"Enter a list of numbers, separated by spaces: \").split()]\n",
    "\n",
    "ascending_order = sorted(numbers)\n",
    "descending_order = sorted(numbers, reverse=True)\n",
    "\n",
    "print(\"Numbers in ascending order:\", ascending_order)\n",
    "print(\"Numbers in descending order:\", descending_order)\n"
   ]
  },
  {
   "cell_type": "code",
   "execution_count": null,
   "id": "0589be3c",
   "metadata": {},
   "outputs": [],
   "source": []
  }
 ],
 "metadata": {
  "kernelspec": {
   "display_name": "Python 3 (ipykernel)",
   "language": "python",
   "name": "python3"
  },
  "language_info": {
   "codemirror_mode": {
    "name": "ipython",
    "version": 3
   },
   "file_extension": ".py",
   "mimetype": "text/x-python",
   "name": "python",
   "nbconvert_exporter": "python",
   "pygments_lexer": "ipython3",
   "version": "3.9.7"
  }
 },
 "nbformat": 4,
 "nbformat_minor": 5
}
