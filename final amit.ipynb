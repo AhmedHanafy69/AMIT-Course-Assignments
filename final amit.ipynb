{
 "cells": [
  {
   "cell_type": "code",
   "execution_count": 52,
   "id": "b859f71b",
   "metadata": {},
   "outputs": [],
   "source": [
    "import pandas as pd\n",
    "\n",
    "import numpy as np\n",
    "\n",
    "\n",
    "# Load the dataset\n",
    "data = pd.read_csv('Total.csv')  # Replace with the actual file name\n",
    "\n",
    "\n",
    "# Handle missing values by replacing 'Not Provided' with NaN\n",
    "data.replace('Not Provided', np.nan, inplace=True)\n",
    "\n",
    "# Handle missing values\n",
    "data.dropna(inplace=True) \n",
    "\n",
    "\n",
    "# Convert 'Year' column to integer\n",
    "data['Year'] = data['Year'].astype(int)\n",
    "\n",
    "\n"
   ]
  },
  {
   "cell_type": "code",
   "execution_count": 53,
   "id": "ee0a90e7",
   "metadata": {},
   "outputs": [
    {
     "name": "stdout",
     "output_type": "stream",
     "text": [
      "Number of records (rows): 276105\n",
      "Number of fields (columns): 9\n",
      "Names of columns: ['EmployeeName', 'JobTitle', 'BasePay', 'OvertimePay', 'OtherPay', 'Benefits', 'TotalPay', 'TotalPayBenefits', 'Year']\n",
      "Data types of each column:\n",
      "EmployeeName         object\n",
      "JobTitle             object\n",
      "BasePay              object\n",
      "OvertimePay          object\n",
      "OtherPay             object\n",
      "Benefits             object\n",
      "TotalPay            float64\n",
      "TotalPayBenefits    float64\n",
      "Year                  int32\n",
      "dtype: object\n"
     ]
    }
   ],
   "source": [
    "# Number of records (rows) and fields (columns)\n",
    "num_records = data.shape[0]\n",
    "num_fields = data.shape[1]\n",
    "\n",
    "# Names of the columns\n",
    "column_names = data.columns.tolist()\n",
    "\n",
    "# Data types of each column\n",
    "column_data_types = data.dtypes\n",
    "\n",
    "# Print the answers\n",
    "print(\"Number of records (rows):\", num_records)\n",
    "print(\"Number of fields (columns):\", num_fields)\n",
    "print(\"Names of columns:\", column_names)\n",
    "print(\"Data types of each column:\")\n",
    "print(column_data_types)"
   ]
  },
  {
   "cell_type": "code",
   "execution_count": 54,
   "id": "206340f0",
   "metadata": {},
   "outputs": [
    {
     "name": "stdout",
     "output_type": "stream",
     "text": [
      "Average salary: 104952.55023107486\n",
      "Highest salary: 712802.36\n",
      "Lowest salary: -3628.78\n",
      "Salary distribution:\n",
      "0.00         52\n",
      "26058.70     43\n",
      "252.50       41\n",
      "42379.87     38\n",
      "2645.45      37\n",
      "             ..\n",
      "101994.22     1\n",
      "101994.08     1\n",
      "101992.43     1\n",
      "101987.31     1\n",
      "0.01          1\n",
      "Name: TotalPayBenefits, Length: 265624, dtype: int64\n"
     ]
    }
   ],
   "source": [
    "# Calculate the average salary\n",
    "average_salary = data['TotalPayBenefits'].mean()\n",
    "\n",
    "# Find the highest and lowest salary\n",
    "highest_salary = data['TotalPayBenefits'].max()\n",
    "lowest_salary = data['TotalPayBenefits'].min()\n",
    "\n",
    "# Distribution of salaries across different pay scales\n",
    "salary_distribution = data['TotalPayBenefits'].value_counts()\n",
    "\n",
    "# Print the answers\n",
    "print(\"Average salary:\", average_salary)\n",
    "print(\"Highest salary:\", highest_salary)\n",
    "print(\"Lowest salary:\", lowest_salary)\n",
    "print(\"Salary distribution:\")\n",
    "print(salary_distribution)"
   ]
  },
  {
   "cell_type": "code",
   "execution_count": 55,
   "id": "b03da7a2",
   "metadata": {},
   "outputs": [
    {
     "name": "stdout",
     "output_type": "stream",
     "text": [
      "Average Salary Change from Year to Year:\n",
      "Year 2012: Average Salary = 100551.89\n",
      "Year 2013: Average Salary = 102939.98\n",
      "Year 2014: Average Salary = 100261.44\n",
      "Year 2015: Average Salary = 101725.91\n",
      "Year 2016: Average Salary = 104583.99\n",
      "Year 2017: Average Salary = 109669.46\n",
      "Year 2018: Average Salary = 113492.00\n",
      "\n",
      "Overall Salary Trend over the Years:\n",
      "Overall Average Salary = 104952.55\n"
     ]
    }
   ],
   "source": [
    "# Calculate the average salary for each year\n",
    "average_salary_by_year = data.groupby('Year')['TotalPayBenefits'].mean()\n",
    "\n",
    "# Display the average salary change from year to year\n",
    "print(\"Average Salary Change from Year to Year:\")\n",
    "for year, avg_salary in average_salary_by_year.items():\n",
    "    print(f\"Year {year}: Average Salary = {avg_salary:.2f}\")\n",
    "\n",
    "# Overall salary trend over the years\n",
    "overall_average_salary = data['TotalPayBenefits'].mean()\n",
    "print(\"\\nOverall Salary Trend over the Years:\")\n",
    "print(f\"Overall Average Salary = {overall_average_salary:.2f}\")"
   ]
  },
  {
   "cell_type": "code",
   "execution_count": 57,
   "id": "542a0d41",
   "metadata": {
    "scrolled": true
   },
   "outputs": [
    {
     "name": "stdout",
     "output_type": "stream",
     "text": [
      "Department with the Highest Average Salary: Chief Investment Officer\n",
      "Department with the Lowest Average Salary: Security-Campus\n",
      "\n",
      "Average Salary by Department:\n",
      "JobTitle\n",
      "ACPO,JuvP, Juv Prob (SFERS)       187590.894000\n",
      "ASR Senior Office Specialist       91305.580066\n",
      "ASR-Office Assistant               56231.152240\n",
      "Account Clerk                      64234.399853\n",
      "Accountant I                       72607.565333\n",
      "                                      ...      \n",
      "WireRopeCable Maint Mech Train    124625.956250\n",
      "Worker's Comp Supervisor 1        125365.766410\n",
      "Worker's Compensation Adjuster    103356.728827\n",
      "X-Ray Laboratory Aide              67660.556990\n",
      "Youth Comm Advisor                 69760.714444\n",
      "Name: TotalPayBenefits, Length: 1236, dtype: float64\n"
     ]
    }
   ],
   "source": [
    "# Calculate the average salary for each department (JobTitle)\n",
    "average_salary_by_department = data.groupby(data['JobTitle'])['TotalPayBenefits'].mean()\n",
    "\n",
    "# Department with the highest and lowest average salaries\n",
    "highest_avg_salary_department = average_salary_by_department.idxmax()\n",
    "lowest_avg_salary_department = average_salary_by_department.idxmin()\n",
    "\n",
    "# Display departments with the highest and lowest average salaries\n",
    "print(\"Department with the Highest Average Salary:\", highest_avg_salary_department)\n",
    "print(\"Department with the Lowest Average Salary:\", lowest_avg_salary_department)\n",
    "\n",
    "# Print average salary by department\n",
    "print(\"\\nAverage Salary by Department:\")\n",
    "print(average_salary_by_department)"
   ]
  },
  {
   "cell_type": "code",
   "execution_count": 58,
   "id": "9224dcc6",
   "metadata": {},
   "outputs": [
    {
     "name": "stdout",
     "output_type": "stream",
     "text": [
      "Top 10 Earners:\n",
      "                EmployeeName                  JobTitle  TotalPayBenefits\n",
      "270573         Paulo Morgado          Police Officer 3         712802.36\n",
      "270574  William J Coaker Jr.  Chief Investment Officer         680669.54\n",
      "229007  William J Coaker Jr.  Chief Investment Officer         666180.14\n",
      "188037  William J Coaker Jr.  Chief Investment Officer         641845.82\n",
      "148650  William J Coaker Jr.  Chief Investment Officer         633723.33\n",
      "229008        David E Francl         Managing Director         565892.29\n",
      "270575        David E Francl         Managing Director         563467.28\n",
      "229009         Arthur L Wang         Managing Director         551116.09\n",
      "270576         Arthur L Wang         Managing Director         546804.48\n",
      "229010          Ronald Terry      Sheriff's Lieutenant         546240.06\n",
      "\n",
      "Department with the Highest Number of Top Earners: Chief Investment Officer\n"
     ]
    }
   ],
   "source": [
    "# Sort the dataset by TotalPayBenefits in descending order\n",
    "top_earners = data.sort_values(by='TotalPayBenefits', ascending=False).head(10)\n",
    "\n",
    "# Display the top 10 earners\n",
    "print(\"Top 10 Earners:\")\n",
    "print(top_earners[['EmployeeName', 'JobTitle', 'TotalPayBenefits']])\n",
    "\n",
    "# Determine which department has the highest number of top earners\n",
    "top_earners_department = top_earners['JobTitle'].value_counts().idxmax()\n",
    "\n",
    "# Display the department with the highest number of top earners\n",
    "print(\"\\nDepartment with the Highest Number of Top Earners:\", top_earners_department)"
   ]
  },
  {
   "cell_type": "code",
   "execution_count": 60,
   "id": "7080cff3",
   "metadata": {},
   "outputs": [
    {
     "name": "stdout",
     "output_type": "stream",
     "text": [
      "Proportion of Employees with Overtime Pay: 49.10233425689502\n",
      "\n",
      "Summary Statistics for Salary Distribution with Overtime Pay:\n",
      "count    135574.000000\n",
      "mean     123916.907911\n",
      "std       59404.741507\n",
      "min           0.010000\n",
      "25%       87206.537500\n",
      "50%      116829.230000\n",
      "75%      163655.867500\n",
      "max      546240.060000\n",
      "Name: TotalPayBenefits, dtype: float64\n",
      "\n",
      "Summary Statistics for Salary Distribution without Overtime Pay:\n",
      "count    276105.000000\n",
      "mean     104952.550231\n",
      "std       67577.903805\n",
      "min       -3628.780000\n",
      "25%       53099.850000\n",
      "50%      104456.450000\n",
      "75%      148009.870000\n",
      "max      712802.360000\n",
      "Name: TotalPayBenefits, dtype: float64\n"
     ]
    }
   ],
   "source": [
    "# Convert 'OvertimePay' column to numeric, replacing non-numeric values with NaN\n",
    "data['OvertimePay'] = pd.to_numeric(data['OvertimePay'], errors='coerce')\n",
    "\n",
    "# Calculate the proportion of employees who receive overtime pay\n",
    "employees_with_overtime = data[data['OvertimePay'] > 0]\n",
    "proportion_with_overtime = len(employees_with_overtime) / len(data) * 100\n",
    "\n",
    "# Display the proportion of employees with overtime pay\n",
    "print(\"Proportion of Employees with Overtime Pay:\", proportion_with_overtime)\n",
    "\n",
    "# Analyze the effect of overtime pay on the overall salary distribution\n",
    "salary_distribution_with_overtime = employees_with_overtime['TotalPayBenefits']\n",
    "salary_distribution_without_overtime = data['TotalPayBenefits']\n",
    "\n",
    "# Display summary statistics for salary distribution with overtime pay\n",
    "print(\"\\nSummary Statistics for Salary Distribution with Overtime Pay:\")\n",
    "print(salary_distribution_with_overtime.describe())\n",
    "\n",
    "# Display summary statistics for salary distribution without overtime pay\n",
    "print(\"\\nSummary Statistics for Salary Distribution without Overtime Pay:\")\n",
    "print(salary_distribution_without_overtime.describe())"
   ]
  },
  {
   "cell_type": "code",
   "execution_count": 64,
   "id": "f0f1d58f",
   "metadata": {},
   "outputs": [
    {
     "name": "stdout",
     "output_type": "stream",
     "text": [
      "Most Common Benefits Offered: 0.0\n",
      "\n",
      "Correlation between Benefits and Salaries:\n",
      "                  Benefits  TotalPayBenefits\n",
      "Benefits          1.000000          0.932046\n",
      "TotalPayBenefits  0.932046          1.000000\n"
     ]
    },
    {
     "name": "stderr",
     "output_type": "stream",
     "text": [
      "C:\\Users\\AHMEDH~1\\AppData\\Local\\Temp/ipykernel_40272/1011947386.py:9: SettingWithCopyWarning: \n",
      "A value is trying to be set on a copy of a slice from a DataFrame.\n",
      "Try using .loc[row_indexer,col_indexer] = value instead\n",
      "\n",
      "See the caveats in the documentation: https://pandas.pydata.org/pandas-docs/stable/user_guide/indexing.html#returning-a-view-versus-a-copy\n",
      "  benefits_and_salaries['Benefits'] = pd.to_numeric(benefits_and_salaries['Benefits'], errors='coerce')\n"
     ]
    }
   ],
   "source": [
    "# Find the most common benefits offered to employees\n",
    "common_benefits = data['Benefits'].value_counts().idxmax()\n",
    "\n",
    "# Display the most common benefits\n",
    "print(\"Most Common Benefits Offered:\", common_benefits)\n",
    "\n",
    "# Convert 'Benefits' column to numeric, replacing non-numeric values with NaN\n",
    "benefits_and_salaries = data[['Benefits', 'TotalPayBenefits']]\n",
    "benefits_and_salaries['Benefits'] = pd.to_numeric(benefits_and_salaries['Benefits'], errors='coerce')\n",
    "\n",
    "# Calculate the correlation between benefits and salaries\n",
    "correlation = benefits_and_salaries.corr()\n",
    "\n",
    "# Display the correlation between benefits and salaries\n",
    "print(\"\\nCorrelation between Benefits and Salaries:\")\n",
    "print(correlation)"
   ]
  },
  {
   "cell_type": "code",
   "execution_count": 65,
   "id": "a10f313d",
   "metadata": {},
   "outputs": [
    {
     "name": "stdout",
     "output_type": "stream",
     "text": [
      "Top 10 Job Titles with Highest Average Salaries:\n",
      "JobTitle\n",
      "Chief Investment Officer        611728.638000\n",
      "Physician Administrator, DPH    454471.806667\n",
      "Managing Director               438767.559091\n",
      "Chief, Fire Department          417767.857143\n",
      "Gen Mgr, Public Trnsp Dept      389126.942857\n",
      "Assistant Chief of Police       387003.872500\n",
      "Administrator, DPH              374311.562857\n",
      "Dept Head V                     365736.799048\n",
      "Chief of Police                 360199.826667\n",
      "Executive Contract Employee     358489.260000\n",
      "Name: TotalPayBenefits, dtype: float64\n",
      "\n",
      "Ranking Changes of Top 10 Job Titles Over Time:\n",
      "\n",
      "Job Title: Chief Investment Officer\n",
      "Year\n",
      "2014    436224.36\n",
      "2015    633723.33\n",
      "2016    641845.82\n",
      "2017    666180.14\n",
      "2018    680669.54\n",
      "Name: TotalPayBenefits, dtype: float64\n",
      "\n",
      "Job Title: Physician Administrator, DPH\n",
      "Year\n",
      "2016    312857.35\n",
      "2017    543131.18\n",
      "2018    507426.89\n",
      "Name: TotalPayBenefits, dtype: float64\n",
      "\n",
      "Job Title: Managing Director\n",
      "Year\n",
      "2016    428786.910000\n",
      "2017    544660.256667\n",
      "2018    389148.093333\n",
      "Name: TotalPayBenefits, dtype: float64\n",
      "\n",
      "Job Title: Chief, Fire Department\n",
      "Year\n",
      "2012    386807.48\n",
      "2013    422353.40\n",
      "2014    417435.10\n",
      "2015    410069.33\n",
      "2016    428283.32\n",
      "2017    437203.36\n",
      "2018    422223.01\n",
      "Name: TotalPayBenefits, dtype: float64\n",
      "\n",
      "Job Title: Gen Mgr, Public Trnsp Dept\n",
      "Year\n",
      "2012    376002.11\n",
      "2013    386168.49\n",
      "2014    379918.72\n",
      "2015    380951.67\n",
      "2016    391590.23\n",
      "2017    405747.30\n",
      "2018    403510.08\n",
      "Name: TotalPayBenefits, dtype: float64\n",
      "\n",
      "Job Title: Assistant Chief of Police\n",
      "Year\n",
      "2017    387189.560\n",
      "2018    386818.185\n",
      "Name: TotalPayBenefits, dtype: float64\n",
      "\n",
      "Job Title: Administrator, DPH\n",
      "Year\n",
      "2013    297566.93\n",
      "2014    365561.14\n",
      "2015    374940.80\n",
      "2016    378676.94\n",
      "2017    398904.03\n",
      "2018    402265.55\n",
      "Name: TotalPayBenefits, dtype: float64\n",
      "\n",
      "Job Title: Dept Head V\n",
      "Year\n",
      "2012    307531.805714\n",
      "2013    361533.100000\n",
      "2014    361932.378000\n",
      "2015    357730.681667\n",
      "2016    376273.536667\n",
      "2017    396991.210000\n",
      "2018    407231.643333\n",
      "Name: TotalPayBenefits, dtype: float64\n",
      "\n",
      "Job Title: Chief of Police\n",
      "Year\n",
      "2012    391362.300\n",
      "2013    425815.280\n",
      "2014    418019.220\n",
      "2015    410938.090\n",
      "2016    321769.080\n",
      "2017    278613.045\n",
      "2018    394899.300\n",
      "Name: TotalPayBenefits, dtype: float64\n",
      "\n",
      "Job Title: Executive Contract Employee\n",
      "Year\n",
      "2012    348109.670000\n",
      "2013    328637.540000\n",
      "2014    354918.300000\n",
      "2015    317128.696667\n",
      "2016    377361.535000\n",
      "2017    390231.625000\n",
      "2018    413717.735000\n",
      "Name: TotalPayBenefits, dtype: float64\n"
     ]
    }
   ],
   "source": [
    "# Calculate the average salary for each job title\n",
    "average_salary_by_job_title = data.groupby('JobTitle')['TotalPayBenefits'].mean()\n",
    "\n",
    "# Get the top 10 job titles with the highest average salaries\n",
    "top_10_job_titles = average_salary_by_job_title.sort_values(ascending=False).head(10)\n",
    "\n",
    "# Display the top 10 job titles with the highest average salaries\n",
    "print(\"Top 10 Job Titles with Highest Average Salaries:\")\n",
    "print(top_10_job_titles)\n",
    "\n",
    "# Analyze how the ranking of these job titles has changed over time\n",
    "ranking_changes_over_time = {}\n",
    "for job_title in top_10_job_titles.index:\n",
    "    job_title_data = data[data['JobTitle'] == job_title]\n",
    "    job_title_data_grouped = job_title_data.groupby('Year')['TotalPayBenefits'].mean()\n",
    "    ranking_changes_over_time[job_title] = job_title_data_grouped\n",
    "\n",
    "# Display how the ranking of these job titles has changed over time\n",
    "print(\"\\nRanking Changes of Top 10 Job Titles Over Time:\")\n",
    "for job_title, ranking_data in ranking_changes_over_time.items():\n",
    "    print(\"\\nJob Title:\", job_title)\n",
    "    print(ranking_data)"
   ]
  },
  {
   "cell_type": "code",
   "execution_count": 66,
   "id": "69211af3",
   "metadata": {},
   "outputs": [
    {
     "name": "stdout",
     "output_type": "stream",
     "text": [
      "Number of Employees in Each Department:\n",
      "Transit Operator                  17934\n",
      "Special Nurse                     10850\n",
      "Registered Nurse                   9238\n",
      "Firefighter                        5880\n",
      "Custodian                          5750\n",
      "                                  ...  \n",
      "Special Assistant 8                   1\n",
      "Musm Exhibit Packer & Repairer        1\n",
      "Pianist                               1\n",
      "Real Property Officer                 1\n",
      "Security-Campus                       1\n",
      "Name: JobTitle, Length: 1236, dtype: int64\n",
      "\n",
      "Percentage Distribution of Employees Across Departments:\n",
      "Transit Operator                  6.495355\n",
      "Special Nurse                     3.929664\n",
      "Registered Nurse                  3.345829\n",
      "Firefighter                       2.129625\n",
      "Custodian                         2.082541\n",
      "                                    ...   \n",
      "Special Assistant 8               0.000362\n",
      "Musm Exhibit Packer & Repairer    0.000362\n",
      "Pianist                           0.000362\n",
      "Real Property Officer             0.000362\n",
      "Security-Campus                   0.000362\n",
      "Name: JobTitle, Length: 1236, dtype: float64\n"
     ]
    }
   ],
   "source": [
    "# Count the number of employees in each department\n",
    "department_employee_counts = data['JobTitle'].value_counts()\n",
    "\n",
    "# Calculate the total number of employees\n",
    "total_employees = len(data)\n",
    "\n",
    "# Calculate the percentage distribution of employees across different departments\n",
    "percentage_distribution = (department_employee_counts / total_employees) * 100\n",
    "\n",
    "# Display the number of employees in each department\n",
    "print(\"Number of Employees in Each Department:\")\n",
    "print(department_employee_counts)\n",
    "\n",
    "# Display the percentage distribution of employees across different departments\n",
    "print(\"\\nPercentage Distribution of Employees Across Departments:\")\n",
    "print(percentage_distribution)"
   ]
  },
  {
   "cell_type": "code",
   "execution_count": 72,
   "id": "750f4ab0",
   "metadata": {},
   "outputs": [
    {
     "name": "stdout",
     "output_type": "stream",
     "text": [
      "Average Salary Based on Employee Tenure:\n",
      "Tenure\n",
      "5     113492.004712\n",
      "6     109669.462197\n",
      "7     104583.993679\n",
      "8     101725.909937\n",
      "9     100261.438668\n",
      "10    102939.981346\n",
      "11    100551.886807\n",
      "Name: TotalPayBenefits, dtype: float64\n"
     ]
    }
   ],
   "source": [
    "# Calculate the tenure for each employee (years of service)\n",
    "current_year = 2023  # Update with the current year\n",
    "data['Tenure'] = current_year - data['Year']\n",
    "\n",
    "# Calculate the average salary for each tenure group\n",
    "tenure_salary_avg = data.groupby('Tenure')['TotalPayBenefits'].mean()\n",
    "\n",
    "# Display the average salary for each tenure group\n",
    "print(\"Average Salary Based on Employee Tenure:\")\n",
    "print(tenure_salary_avg)\n",
    "\n"
   ]
  },
  {
   "cell_type": "code",
   "execution_count": 69,
   "id": "99ff5145",
   "metadata": {},
   "outputs": [
    {
     "name": "stdout",
     "output_type": "stream",
     "text": [
      "Correlation between Years of Employment and Employee Salaries:\n",
      "                      Year  TotalPayBenefits\n",
      "Year              1.000000          0.060999\n",
      "TotalPayBenefits  0.060999          1.000000\n"
     ]
    }
   ],
   "source": [
    "# Calculate the correlation between years of employment and employee salaries\n",
    "correlation = data[['Year', 'TotalPayBenefits']].corr()\n",
    "\n",
    "# Display the correlation\n",
    "print(\"Correlation between Years of Employment and Employee Salaries:\")\n",
    "print(correlation)"
   ]
  },
  {
   "cell_type": "code",
   "execution_count": null,
   "id": "8b0606ef",
   "metadata": {},
   "outputs": [],
   "source": []
  }
 ],
 "metadata": {
  "kernelspec": {
   "display_name": "Python 3 (ipykernel)",
   "language": "python",
   "name": "python3"
  },
  "language_info": {
   "codemirror_mode": {
    "name": "ipython",
    "version": 3
   },
   "file_extension": ".py",
   "mimetype": "text/x-python",
   "name": "python",
   "nbconvert_exporter": "python",
   "pygments_lexer": "ipython3",
   "version": "3.9.7"
  }
 },
 "nbformat": 4,
 "nbformat_minor": 5
}
